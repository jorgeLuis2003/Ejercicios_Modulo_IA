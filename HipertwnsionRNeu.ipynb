{
 "cells": [
  {
   "cell_type": "code",
   "execution_count": 1,
   "metadata": {},
   "outputs": [
    {
     "name": "stderr",
     "output_type": "stream",
     "text": [
      "C:\\Users\\Alumno\\AppData\\Local\\Temp\\ipykernel_4396\\2745513628.py:2: DeprecationWarning: \n",
      "Pyarrow will become a required dependency of pandas in the next major release of pandas (pandas 3.0),\n",
      "(to allow more performant data types, such as the Arrow string type, and better interoperability with other libraries)\n",
      "but was not found to be installed on your system.\n",
      "If this would cause problems for you,\n",
      "please provide us feedback at https://github.com/pandas-dev/pandas/issues/54466\n",
      "        \n",
      "  import pandas as pd\n"
     ]
    },
    {
     "name": "stdout",
     "output_type": "stream",
     "text": [
      "WARNING:tensorflow:From c:\\Users\\Alumno\\AppData\\Local\\Programs\\Python\\Python311\\Lib\\site-packages\\keras\\src\\losses.py:2976: The name tf.losses.sparse_softmax_cross_entropy is deprecated. Please use tf.compat.v1.losses.sparse_softmax_cross_entropy instead.\n",
      "\n"
     ]
    }
   ],
   "source": [
    "import numpy as no\n",
    "import pandas as pd\n",
    "import matplotlib.pyplot as plt\n",
    "import seaborn as sns\n",
    "from sklearn.model_selection import train_test_split\n",
    "from sklearn.preprocessing import StandardScaler\n",
    "from tensorflow.keras.models import Sequential\n",
    "from tensorflow.keras.layers import Dense\n"
   ]
  },
  {
   "cell_type": "code",
   "execution_count": 2,
   "metadata": {},
   "outputs": [],
   "source": [
    "data = pd.read_csv('Hipertension_Arterial_Mexico.csv')"
   ]
  },
  {
   "cell_type": "code",
   "execution_count": 3,
   "metadata": {},
   "outputs": [
    {
     "data": {
      "text/html": [
       "<div>\n",
       "<style scoped>\n",
       "    .dataframe tbody tr th:only-of-type {\n",
       "        vertical-align: middle;\n",
       "    }\n",
       "\n",
       "    .dataframe tbody tr th {\n",
       "        vertical-align: top;\n",
       "    }\n",
       "\n",
       "    .dataframe thead th {\n",
       "        text-align: right;\n",
       "    }\n",
       "</style>\n",
       "<table border=\"1\" class=\"dataframe\">\n",
       "  <thead>\n",
       "    <tr style=\"text-align: right;\">\n",
       "      <th></th>\n",
       "      <th>FOLIO_I</th>\n",
       "      <th>sexo</th>\n",
       "      <th>edad</th>\n",
       "      <th>concentracion_hemoglobina</th>\n",
       "      <th>temperatura_ambiente</th>\n",
       "      <th>valor_acido_urico</th>\n",
       "      <th>valor_albumina</th>\n",
       "      <th>valor_colesterol_hdl</th>\n",
       "      <th>valor_colesterol_ldl</th>\n",
       "      <th>valor_colesterol_total</th>\n",
       "      <th>...</th>\n",
       "      <th>segundamedicion_peso</th>\n",
       "      <th>segundamedicion_estatura</th>\n",
       "      <th>distancia_rodilla_talon</th>\n",
       "      <th>circunferencia_de_la_pantorrilla</th>\n",
       "      <th>segundamedicion_cintura</th>\n",
       "      <th>tension_arterial</th>\n",
       "      <th>sueno_horas</th>\n",
       "      <th>masa_corporal</th>\n",
       "      <th>actividad_total</th>\n",
       "      <th>riesgo_hipertension</th>\n",
       "    </tr>\n",
       "  </thead>\n",
       "  <tbody>\n",
       "    <tr>\n",
       "      <th>0</th>\n",
       "      <td>2022_01001004</td>\n",
       "      <td>2</td>\n",
       "      <td>41</td>\n",
       "      <td>14.2</td>\n",
       "      <td>22</td>\n",
       "      <td>4.8</td>\n",
       "      <td>4.0</td>\n",
       "      <td>34</td>\n",
       "      <td>86.0</td>\n",
       "      <td>139</td>\n",
       "      <td>...</td>\n",
       "      <td>64.70</td>\n",
       "      <td>154.0</td>\n",
       "      <td>48.5</td>\n",
       "      <td>33.5</td>\n",
       "      <td>0.0</td>\n",
       "      <td>107</td>\n",
       "      <td>4</td>\n",
       "      <td>32.889389</td>\n",
       "      <td>120</td>\n",
       "      <td>1</td>\n",
       "    </tr>\n",
       "    <tr>\n",
       "      <th>1</th>\n",
       "      <td>2022_01001009</td>\n",
       "      <td>2</td>\n",
       "      <td>65</td>\n",
       "      <td>14.1</td>\n",
       "      <td>9</td>\n",
       "      <td>4.4</td>\n",
       "      <td>3.8</td>\n",
       "      <td>73</td>\n",
       "      <td>130.0</td>\n",
       "      <td>252</td>\n",
       "      <td>...</td>\n",
       "      <td>96.75</td>\n",
       "      <td>152.2</td>\n",
       "      <td>44.5</td>\n",
       "      <td>41.1</td>\n",
       "      <td>113.7</td>\n",
       "      <td>104</td>\n",
       "      <td>2</td>\n",
       "      <td>1.000000</td>\n",
       "      <td>240</td>\n",
       "      <td>0</td>\n",
       "    </tr>\n",
       "    <tr>\n",
       "      <th>2</th>\n",
       "      <td>2022_01001012</td>\n",
       "      <td>2</td>\n",
       "      <td>68</td>\n",
       "      <td>14.2</td>\n",
       "      <td>22</td>\n",
       "      <td>4.8</td>\n",
       "      <td>4.0</td>\n",
       "      <td>34</td>\n",
       "      <td>86.0</td>\n",
       "      <td>139</td>\n",
       "      <td>...</td>\n",
       "      <td>68.70</td>\n",
       "      <td>144.8</td>\n",
       "      <td>42.3</td>\n",
       "      <td>37.8</td>\n",
       "      <td>103.7</td>\n",
       "      <td>105</td>\n",
       "      <td>1</td>\n",
       "      <td>1.000000</td>\n",
       "      <td>480</td>\n",
       "      <td>0</td>\n",
       "    </tr>\n",
       "    <tr>\n",
       "      <th>3</th>\n",
       "      <td>2022_01001013</td>\n",
       "      <td>1</td>\n",
       "      <td>35</td>\n",
       "      <td>15.7</td>\n",
       "      <td>11</td>\n",
       "      <td>6.5</td>\n",
       "      <td>4.1</td>\n",
       "      <td>49</td>\n",
       "      <td>107.0</td>\n",
       "      <td>203</td>\n",
       "      <td>...</td>\n",
       "      <td>64.70</td>\n",
       "      <td>154.0</td>\n",
       "      <td>48.5</td>\n",
       "      <td>33.5</td>\n",
       "      <td>0.0</td>\n",
       "      <td>117</td>\n",
       "      <td>5</td>\n",
       "      <td>26.265339</td>\n",
       "      <td>275</td>\n",
       "      <td>1</td>\n",
       "    </tr>\n",
       "    <tr>\n",
       "      <th>4</th>\n",
       "      <td>2022_01001015</td>\n",
       "      <td>2</td>\n",
       "      <td>65</td>\n",
       "      <td>12.7</td>\n",
       "      <td>7</td>\n",
       "      <td>4.2</td>\n",
       "      <td>4.2</td>\n",
       "      <td>41</td>\n",
       "      <td>76.0</td>\n",
       "      <td>145</td>\n",
       "      <td>...</td>\n",
       "      <td>97.15</td>\n",
       "      <td>161.3</td>\n",
       "      <td>49.6</td>\n",
       "      <td>42.0</td>\n",
       "      <td>118.9</td>\n",
       "      <td>123</td>\n",
       "      <td>2</td>\n",
       "      <td>1.000000</td>\n",
       "      <td>255</td>\n",
       "      <td>0</td>\n",
       "    </tr>\n",
       "    <tr>\n",
       "      <th>...</th>\n",
       "      <td>...</td>\n",
       "      <td>...</td>\n",
       "      <td>...</td>\n",
       "      <td>...</td>\n",
       "      <td>...</td>\n",
       "      <td>...</td>\n",
       "      <td>...</td>\n",
       "      <td>...</td>\n",
       "      <td>...</td>\n",
       "      <td>...</td>\n",
       "      <td>...</td>\n",
       "      <td>...</td>\n",
       "      <td>...</td>\n",
       "      <td>...</td>\n",
       "      <td>...</td>\n",
       "      <td>...</td>\n",
       "      <td>...</td>\n",
       "      <td>...</td>\n",
       "      <td>...</td>\n",
       "      <td>...</td>\n",
       "      <td>...</td>\n",
       "    </tr>\n",
       "    <tr>\n",
       "      <th>4358</th>\n",
       "      <td>2022_32056019</td>\n",
       "      <td>2</td>\n",
       "      <td>62</td>\n",
       "      <td>14.2</td>\n",
       "      <td>22</td>\n",
       "      <td>4.8</td>\n",
       "      <td>4.0</td>\n",
       "      <td>34</td>\n",
       "      <td>86.0</td>\n",
       "      <td>139</td>\n",
       "      <td>...</td>\n",
       "      <td>64.25</td>\n",
       "      <td>160.5</td>\n",
       "      <td>51.1</td>\n",
       "      <td>34.5</td>\n",
       "      <td>77.8</td>\n",
       "      <td>125</td>\n",
       "      <td>4</td>\n",
       "      <td>1.000000</td>\n",
       "      <td>280</td>\n",
       "      <td>0</td>\n",
       "    </tr>\n",
       "    <tr>\n",
       "      <th>4359</th>\n",
       "      <td>2022_32056024</td>\n",
       "      <td>1</td>\n",
       "      <td>39</td>\n",
       "      <td>14.2</td>\n",
       "      <td>22</td>\n",
       "      <td>4.8</td>\n",
       "      <td>4.0</td>\n",
       "      <td>34</td>\n",
       "      <td>86.0</td>\n",
       "      <td>139</td>\n",
       "      <td>...</td>\n",
       "      <td>64.70</td>\n",
       "      <td>154.0</td>\n",
       "      <td>48.5</td>\n",
       "      <td>33.5</td>\n",
       "      <td>0.0</td>\n",
       "      <td>130</td>\n",
       "      <td>4</td>\n",
       "      <td>19.193721</td>\n",
       "      <td>780</td>\n",
       "      <td>0</td>\n",
       "    </tr>\n",
       "    <tr>\n",
       "      <th>4360</th>\n",
       "      <td>2022_32056026</td>\n",
       "      <td>2</td>\n",
       "      <td>69</td>\n",
       "      <td>15.9</td>\n",
       "      <td>11</td>\n",
       "      <td>2.9</td>\n",
       "      <td>1.9</td>\n",
       "      <td>21</td>\n",
       "      <td>44.0</td>\n",
       "      <td>74</td>\n",
       "      <td>...</td>\n",
       "      <td>71.20</td>\n",
       "      <td>148.6</td>\n",
       "      <td>47.2</td>\n",
       "      <td>38.0</td>\n",
       "      <td>0.0</td>\n",
       "      <td>147</td>\n",
       "      <td>4</td>\n",
       "      <td>1.000000</td>\n",
       "      <td>300</td>\n",
       "      <td>0</td>\n",
       "    </tr>\n",
       "    <tr>\n",
       "      <th>4361</th>\n",
       "      <td>2022_32056029</td>\n",
       "      <td>1</td>\n",
       "      <td>67</td>\n",
       "      <td>17.6</td>\n",
       "      <td>14</td>\n",
       "      <td>5.5</td>\n",
       "      <td>4.0</td>\n",
       "      <td>44</td>\n",
       "      <td>96.0</td>\n",
       "      <td>171</td>\n",
       "      <td>...</td>\n",
       "      <td>68.20</td>\n",
       "      <td>167.7</td>\n",
       "      <td>51.5</td>\n",
       "      <td>36.5</td>\n",
       "      <td>96.4</td>\n",
       "      <td>108</td>\n",
       "      <td>2</td>\n",
       "      <td>1.000000</td>\n",
       "      <td>240</td>\n",
       "      <td>0</td>\n",
       "    </tr>\n",
       "    <tr>\n",
       "      <th>4362</th>\n",
       "      <td>2022_32056030</td>\n",
       "      <td>2</td>\n",
       "      <td>56</td>\n",
       "      <td>14.2</td>\n",
       "      <td>22</td>\n",
       "      <td>4.8</td>\n",
       "      <td>4.0</td>\n",
       "      <td>34</td>\n",
       "      <td>86.0</td>\n",
       "      <td>139</td>\n",
       "      <td>...</td>\n",
       "      <td>64.70</td>\n",
       "      <td>154.0</td>\n",
       "      <td>48.5</td>\n",
       "      <td>33.5</td>\n",
       "      <td>0.0</td>\n",
       "      <td>100</td>\n",
       "      <td>4</td>\n",
       "      <td>25.600777</td>\n",
       "      <td>300</td>\n",
       "      <td>0</td>\n",
       "    </tr>\n",
       "  </tbody>\n",
       "</table>\n",
       "<p>4363 rows × 36 columns</p>\n",
       "</div>"
      ],
      "text/plain": [
       "            FOLIO_I  sexo  edad  concentracion_hemoglobina  \\\n",
       "0     2022_01001004     2    41                       14.2   \n",
       "1     2022_01001009     2    65                       14.1   \n",
       "2     2022_01001012     2    68                       14.2   \n",
       "3     2022_01001013     1    35                       15.7   \n",
       "4     2022_01001015     2    65                       12.7   \n",
       "...             ...   ...   ...                        ...   \n",
       "4358  2022_32056019     2    62                       14.2   \n",
       "4359  2022_32056024     1    39                       14.2   \n",
       "4360  2022_32056026     2    69                       15.9   \n",
       "4361  2022_32056029     1    67                       17.6   \n",
       "4362  2022_32056030     2    56                       14.2   \n",
       "\n",
       "      temperatura_ambiente  valor_acido_urico  valor_albumina  \\\n",
       "0                       22                4.8             4.0   \n",
       "1                        9                4.4             3.8   \n",
       "2                       22                4.8             4.0   \n",
       "3                       11                6.5             4.1   \n",
       "4                        7                4.2             4.2   \n",
       "...                    ...                ...             ...   \n",
       "4358                    22                4.8             4.0   \n",
       "4359                    22                4.8             4.0   \n",
       "4360                    11                2.9             1.9   \n",
       "4361                    14                5.5             4.0   \n",
       "4362                    22                4.8             4.0   \n",
       "\n",
       "      valor_colesterol_hdl  valor_colesterol_ldl  valor_colesterol_total  ...  \\\n",
       "0                       34                  86.0                     139  ...   \n",
       "1                       73                 130.0                     252  ...   \n",
       "2                       34                  86.0                     139  ...   \n",
       "3                       49                 107.0                     203  ...   \n",
       "4                       41                  76.0                     145  ...   \n",
       "...                    ...                   ...                     ...  ...   \n",
       "4358                    34                  86.0                     139  ...   \n",
       "4359                    34                  86.0                     139  ...   \n",
       "4360                    21                  44.0                      74  ...   \n",
       "4361                    44                  96.0                     171  ...   \n",
       "4362                    34                  86.0                     139  ...   \n",
       "\n",
       "      segundamedicion_peso  segundamedicion_estatura  distancia_rodilla_talon  \\\n",
       "0                    64.70                     154.0                     48.5   \n",
       "1                    96.75                     152.2                     44.5   \n",
       "2                    68.70                     144.8                     42.3   \n",
       "3                    64.70                     154.0                     48.5   \n",
       "4                    97.15                     161.3                     49.6   \n",
       "...                    ...                       ...                      ...   \n",
       "4358                 64.25                     160.5                     51.1   \n",
       "4359                 64.70                     154.0                     48.5   \n",
       "4360                 71.20                     148.6                     47.2   \n",
       "4361                 68.20                     167.7                     51.5   \n",
       "4362                 64.70                     154.0                     48.5   \n",
       "\n",
       "      circunferencia_de_la_pantorrilla  segundamedicion_cintura  \\\n",
       "0                                 33.5                      0.0   \n",
       "1                                 41.1                    113.7   \n",
       "2                                 37.8                    103.7   \n",
       "3                                 33.5                      0.0   \n",
       "4                                 42.0                    118.9   \n",
       "...                                ...                      ...   \n",
       "4358                              34.5                     77.8   \n",
       "4359                              33.5                      0.0   \n",
       "4360                              38.0                      0.0   \n",
       "4361                              36.5                     96.4   \n",
       "4362                              33.5                      0.0   \n",
       "\n",
       "      tension_arterial  sueno_horas  masa_corporal  actividad_total  \\\n",
       "0                  107            4      32.889389              120   \n",
       "1                  104            2       1.000000              240   \n",
       "2                  105            1       1.000000              480   \n",
       "3                  117            5      26.265339              275   \n",
       "4                  123            2       1.000000              255   \n",
       "...                ...          ...            ...              ...   \n",
       "4358               125            4       1.000000              280   \n",
       "4359               130            4      19.193721              780   \n",
       "4360               147            4       1.000000              300   \n",
       "4361               108            2       1.000000              240   \n",
       "4362               100            4      25.600777              300   \n",
       "\n",
       "      riesgo_hipertension  \n",
       "0                       1  \n",
       "1                       0  \n",
       "2                       0  \n",
       "3                       1  \n",
       "4                       0  \n",
       "...                   ...  \n",
       "4358                    0  \n",
       "4359                    0  \n",
       "4360                    0  \n",
       "4361                    0  \n",
       "4362                    0  \n",
       "\n",
       "[4363 rows x 36 columns]"
      ]
     },
     "execution_count": 3,
     "metadata": {},
     "output_type": "execute_result"
    }
   ],
   "source": [
    "data\n"
   ]
  },
  {
   "cell_type": "code",
   "execution_count": 4,
   "metadata": {},
   "outputs": [
    {
     "data": {
      "text/plain": [
       "Index(['FOLIO_I', 'sexo', 'edad', 'concentracion_hemoglobina',\n",
       "       'temperatura_ambiente', 'valor_acido_urico', 'valor_albumina',\n",
       "       'valor_colesterol_hdl', 'valor_colesterol_ldl',\n",
       "       'valor_colesterol_total', 'valor_creatina', 'resultado_glucosa',\n",
       "       'valor_insulina', 'valor_trigliceridos', 'resultado_glucosa_promedio',\n",
       "       'valor_hemoglobina_glucosilada', 'valor_ferritina', 'valor_folato',\n",
       "       'valor_homocisteina', 'valor_proteinac_reactiva', 'valor_transferrina',\n",
       "       'valor_vitamina_bdoce', 'valor_vitamina_d', 'peso', 'estatura',\n",
       "       'medida_cintura', 'segundamedicion_peso', 'segundamedicion_estatura',\n",
       "       'distancia_rodilla_talon', 'circunferencia_de_la_pantorrilla',\n",
       "       'segundamedicion_cintura', 'tension_arterial', 'sueno_horas',\n",
       "       'masa_corporal', 'actividad_total', 'riesgo_hipertension'],\n",
       "      dtype='object')"
      ]
     },
     "execution_count": 4,
     "metadata": {},
     "output_type": "execute_result"
    }
   ],
   "source": [
    "data.columns"
   ]
  },
  {
   "cell_type": "code",
   "execution_count": 5,
   "metadata": {},
   "outputs": [],
   "source": [
    "X=data.drop('riesgo_hipertension',axis=1)"
   ]
  },
  {
   "cell_type": "code",
   "execution_count": 6,
   "metadata": {},
   "outputs": [],
   "source": [
    "y=data['riesgo_hipertension']"
   ]
  },
  {
   "cell_type": "code",
   "execution_count": 7,
   "metadata": {},
   "outputs": [],
   "source": [
    "X_train,X_test,y_train,y_test = train_test_split(X,y, test_size=0.2,random_state=20)"
   ]
  },
  {
   "cell_type": "code",
   "execution_count": 8,
   "metadata": {},
   "outputs": [],
   "source": [
    "scaler = StandardScaler()\n"
   ]
  },
  {
   "cell_type": "code",
   "execution_count": 9,
   "metadata": {},
   "outputs": [],
   "source": [
    "X_train_scaler=scaler.fit_transform(X_train)"
   ]
  },
  {
   "cell_type": "code",
   "execution_count": 10,
   "metadata": {},
   "outputs": [],
   "source": [
    "X_test_scaler=scaler.transform(X_test)"
   ]
  },
  {
   "cell_type": "code",
   "execution_count": 11,
   "metadata": {},
   "outputs": [
    {
     "name": "stdout",
     "output_type": "stream",
     "text": [
      "WARNING:tensorflow:From c:\\Users\\Alumno\\AppData\\Local\\Programs\\Python\\Python311\\Lib\\site-packages\\keras\\src\\backend.py:873: The name tf.get_default_graph is deprecated. Please use tf.compat.v1.get_default_graph instead.\n",
      "\n"
     ]
    }
   ],
   "source": [
    "model=Sequential()"
   ]
  },
  {
   "cell_type": "code",
   "execution_count": 12,
   "metadata": {},
   "outputs": [],
   "source": [
    "model.add(Dense(64,activation='relu',input_shape=(X_train_scaler.shape[1],)))"
   ]
  },
  {
   "cell_type": "code",
   "execution_count": 13,
   "metadata": {},
   "outputs": [],
   "source": [
    "model.add(Dense(32,activation='relu'))\n",
    "model.add(Dense(16,activation='relu'))"
   ]
  },
  {
   "cell_type": "code",
   "execution_count": 14,
   "metadata": {},
   "outputs": [],
   "source": [
    "model.add(Dense(1,activation='sigmoid'))"
   ]
  },
  {
   "cell_type": "code",
   "execution_count": 15,
   "metadata": {},
   "outputs": [
    {
     "name": "stdout",
     "output_type": "stream",
     "text": [
      "WARNING:tensorflow:From c:\\Users\\Alumno\\AppData\\Local\\Programs\\Python\\Python311\\Lib\\site-packages\\keras\\src\\optimizers\\__init__.py:309: The name tf.train.Optimizer is deprecated. Please use tf.compat.v1.train.Optimizer instead.\n",
      "\n"
     ]
    }
   ],
   "source": [
    "model.compile(optimizer='adam',loss='binary_crossentropy',metrics=['accuracy'])"
   ]
  },
  {
   "cell_type": "code",
   "execution_count": 16,
   "metadata": {},
   "outputs": [
    {
     "name": "stdout",
     "output_type": "stream",
     "text": [
      "Epoch 1/10\n",
      "WARNING:tensorflow:From c:\\Users\\Alumno\\AppData\\Local\\Programs\\Python\\Python311\\Lib\\site-packages\\keras\\src\\utils\\tf_utils.py:492: The name tf.ragged.RaggedTensorValue is deprecated. Please use tf.compat.v1.ragged.RaggedTensorValue instead.\n",
      "\n",
      "WARNING:tensorflow:From c:\\Users\\Alumno\\AppData\\Local\\Programs\\Python\\Python311\\Lib\\site-packages\\keras\\src\\engine\\base_layer_utils.py:384: The name tf.executing_eagerly_outside_functions is deprecated. Please use tf.compat.v1.executing_eagerly_outside_functions instead.\n",
      "\n",
      "99/99 [==============================] - 4s 5ms/step - loss: 0.5406 - accuracy: 0.7275 - val_loss: 0.3829 - val_accuracy: 0.8281\n",
      "Epoch 2/10\n",
      "99/99 [==============================] - 0s 2ms/step - loss: 0.3961 - accuracy: 0.8274 - val_loss: 0.3509 - val_accuracy: 0.8711\n",
      "Epoch 3/10\n",
      "99/99 [==============================] - 0s 2ms/step - loss: 0.3546 - accuracy: 0.8599 - val_loss: 0.3480 - val_accuracy: 0.8739\n",
      "Epoch 4/10\n",
      "99/99 [==============================] - 0s 2ms/step - loss: 0.3302 - accuracy: 0.8688 - val_loss: 0.3222 - val_accuracy: 0.8739\n",
      "Epoch 5/10\n",
      "99/99 [==============================] - 0s 2ms/step - loss: 0.3065 - accuracy: 0.8774 - val_loss: 0.3138 - val_accuracy: 0.8854\n",
      "Epoch 6/10\n",
      "99/99 [==============================] - 0s 2ms/step - loss: 0.2857 - accuracy: 0.8825 - val_loss: 0.2967 - val_accuracy: 0.8911\n",
      "Epoch 7/10\n",
      "99/99 [==============================] - 0s 2ms/step - loss: 0.2622 - accuracy: 0.8933 - val_loss: 0.2808 - val_accuracy: 0.9026\n",
      "Epoch 8/10\n",
      "99/99 [==============================] - 0s 2ms/step - loss: 0.2390 - accuracy: 0.9004 - val_loss: 0.2644 - val_accuracy: 0.9054\n",
      "Epoch 9/10\n",
      "99/99 [==============================] - 0s 2ms/step - loss: 0.2174 - accuracy: 0.9109 - val_loss: 0.2502 - val_accuracy: 0.9198\n",
      "Epoch 10/10\n",
      "99/99 [==============================] - 0s 2ms/step - loss: 0.1994 - accuracy: 0.9220 - val_loss: 0.2473 - val_accuracy: 0.9083\n"
     ]
    },
    {
     "data": {
      "text/plain": [
       "<keras.src.callbacks.History at 0x277497eb550>"
      ]
     },
     "execution_count": 16,
     "metadata": {},
     "output_type": "execute_result"
    }
   ],
   "source": [
    "model.fit(X_train_scaler,y_train,epochs=10,batch_size=32,validation_split=0.1)"
   ]
  },
  {
   "cell_type": "code",
   "execution_count": null,
   "metadata": {},
   "outputs": [],
   "source": []
  },
  {
   "cell_type": "code",
   "execution_count": null,
   "metadata": {},
   "outputs": [],
   "source": []
  },
  {
   "cell_type": "code",
   "execution_count": null,
   "metadata": {},
   "outputs": [],
   "source": []
  },
  {
   "cell_type": "code",
   "execution_count": null,
   "metadata": {},
   "outputs": [],
   "source": []
  },
  {
   "cell_type": "code",
   "execution_count": null,
   "metadata": {},
   "outputs": [],
   "source": []
  },
  {
   "cell_type": "code",
   "execution_count": null,
   "metadata": {},
   "outputs": [],
   "source": []
  },
  {
   "cell_type": "code",
   "execution_count": null,
   "metadata": {},
   "outputs": [],
   "source": []
  },
  {
   "cell_type": "code",
   "execution_count": null,
   "metadata": {},
   "outputs": [],
   "source": []
  },
  {
   "cell_type": "code",
   "execution_count": null,
   "metadata": {},
   "outputs": [],
   "source": []
  },
  {
   "cell_type": "code",
   "execution_count": null,
   "metadata": {},
   "outputs": [],
   "source": []
  },
  {
   "cell_type": "code",
   "execution_count": null,
   "metadata": {},
   "outputs": [],
   "source": []
  },
  {
   "cell_type": "code",
   "execution_count": null,
   "metadata": {},
   "outputs": [],
   "source": []
  },
  {
   "cell_type": "code",
   "execution_count": null,
   "metadata": {},
   "outputs": [],
   "source": []
  },
  {
   "cell_type": "code",
   "execution_count": null,
   "metadata": {},
   "outputs": [],
   "source": []
  },
  {
   "cell_type": "code",
   "execution_count": null,
   "metadata": {},
   "outputs": [],
   "source": []
  },
  {
   "cell_type": "code",
   "execution_count": null,
   "metadata": {},
   "outputs": [],
   "source": []
  }
 ],
 "metadata": {
  "kernelspec": {
   "display_name": "Python 3",
   "language": "python",
   "name": "python3"
  },
  "language_info": {
   "codemirror_mode": {
    "name": "ipython",
    "version": 3
   },
   "file_extension": ".py",
   "mimetype": "text/x-python",
   "name": "python",
   "nbconvert_exporter": "python",
   "pygments_lexer": "ipython3",
   "version": "3.11.8"
  }
 },
 "nbformat": 4,
 "nbformat_minor": 2
}
